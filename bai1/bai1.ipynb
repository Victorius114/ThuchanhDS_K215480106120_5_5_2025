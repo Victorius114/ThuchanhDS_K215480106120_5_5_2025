{
 "cells": [
  {
   "cell_type": "code",
   "execution_count": 1,
   "id": "3c06c9e3",
   "metadata": {},
   "outputs": [
    {
     "data": {
      "text/plain": [
       "'Bài 1. Sử dụng dữ liệu từ nguồn: https://www.kaggle.com/competitions/titanic/data\\nYêu cầu:\\n+ Đối với cột age, thay vì chỉ điền giá trị trung bình hoặc trung vị, xây dựng một mô hình hồi quy tuyến tính\\n(Linear Regression) để dự đoán giá trị thiếu dựa trên các đặc trưng khác như pclass, sex, sibsp, và parch.\\n+ Đối với cột embarked, sử dụng thuật toán K-Nearest Neighbors (KNN) để điền giá trị thiếu dựa trên các đặc trưng liên quan.\\n+ Xử lý cột cabin (thường có nhiều giá trị thiếu): trích xuất thông tin từ ký tự đầu tiên của cabin (ví dụ: \\'C\\', \\'B\\') để tạo cột mới deck,\\nsau đó mã hóa cột này.\\n+ Tạo cột family_size như bài gốc (tổng sibsp + parch + 1).\\n+ Tạo cột is_alone (1 nếu hành khách đi một mình, 0 nếu đi cùng gia đình).\\n+ Trích xuất danh xưng (title) từ cột name (ví dụ: Mr, Mrs, Miss) và tạo cột title. Gộp các danh xưng hiếm (như Dr, Rev) thành nhóm \"Rare\".\\n+ Tạo cột fare_per_person bằng cách chia fare cho family_size để thể hiện giá vé trung bình mỗi người.\\n+ Vẽ biểu đồ boxplot để kiểm tra phân phối của fare_per_person theo pclass và survived.\\n+ Sử dụng kiểm định thống kê (ví dụ: t-test hoặc ANOVA) để kiểm tra xem fare_per_person có khác biệt đáng kể giữa các nhóm survived (sống sót hay không).\\n+ Xây dựng một pipeline xử lý dữ liệu (sử dụng sklearn.pipeline) để tự động hóa quá trình làm sạch, mã hóa, và chuẩn hóa dữ liệu.\\n+ Huấn luyện mô hình Random Forest để dự đoán survived dựa trên các đặc trưng đã xử lý và tạo mới.\\n+ Sử dụng Grid Search hoặc Random Search để tối ưu hóa siêu tham số của mô hình (ví dụ: n_estimators, max_depth).\\n+ Đánh giá mô hình bằng cross-validation (5-fold) và báo cáo các chỉ số: accuracy, precision, recall, F1-score, và ROC-AUC.\\n+ Tạo biểu đồ feature importance để xác định các đặc trưng quan trọng nhất ảnh hưởng đến khả năng sống sót.'"
      ]
     },
     "execution_count": 1,
     "metadata": {},
     "output_type": "execute_result"
    }
   ],
   "source": [
    "'''Bài 1. Sử dụng dữ liệu từ nguồn: https://www.kaggle.com/competitions/titanic/data\n",
    "Yêu cầu:\n",
    "+ Đối với cột age, thay vì chỉ điền giá trị trung bình hoặc trung vị, xây dựng một mô hình hồi quy tuyến tính\n",
    "(Linear Regression) để dự đoán giá trị thiếu dựa trên các đặc trưng khác như pclass, sex, sibsp, và parch.\n",
    "+ Đối với cột embarked, sử dụng thuật toán K-Nearest Neighbors (KNN) để điền giá trị thiếu dựa trên các đặc trưng liên quan.\n",
    "+ Xử lý cột cabin (thường có nhiều giá trị thiếu): trích xuất thông tin từ ký tự đầu tiên của cabin (ví dụ: 'C', 'B') để tạo cột mới deck,\n",
    "sau đó mã hóa cột này.\n",
    "+ Tạo cột family_size như bài gốc (tổng sibsp + parch + 1).\n",
    "+ Tạo cột is_alone (1 nếu hành khách đi một mình, 0 nếu đi cùng gia đình).\n",
    "+ Trích xuất danh xưng (title) từ cột name (ví dụ: Mr, Mrs, Miss) và tạo cột title. Gộp các danh xưng hiếm (như Dr, Rev) thành nhóm \"Rare\".\n",
    "+ Tạo cột fare_per_person bằng cách chia fare cho family_size để thể hiện giá vé trung bình mỗi người.\n",
    "+ Vẽ biểu đồ boxplot để kiểm tra phân phối của fare_per_person theo pclass và survived.\n",
    "+ Sử dụng kiểm định thống kê (ví dụ: t-test hoặc ANOVA) để kiểm tra xem fare_per_person có khác biệt đáng kể giữa các nhóm survived (sống sót hay không).\n",
    "+ Xây dựng một pipeline xử lý dữ liệu (sử dụng sklearn.pipeline) để tự động hóa quá trình làm sạch, mã hóa, và chuẩn hóa dữ liệu.\n",
    "+ Huấn luyện mô hình Random Forest để dự đoán survived dựa trên các đặc trưng đã xử lý và tạo mới.\n",
    "+ Sử dụng Grid Search hoặc Random Search để tối ưu hóa siêu tham số của mô hình (ví dụ: n_estimators, max_depth).\n",
    "+ Đánh giá mô hình bằng cross-validation (5-fold) và báo cáo các chỉ số: accuracy, precision, recall, F1-score, và ROC-AUC.\n",
    "+ Tạo biểu đồ feature importance để xác định các đặc trưng quan trọng nhất ảnh hưởng đến khả năng sống sót.'''\n"
   ]
  },
  {
   "cell_type": "code",
   "execution_count": 4,
   "id": "67ee306a",
   "metadata": {},
   "outputs": [],
   "source": [
    "import pandas as pd\n",
    "import numpy as np\n",
    "from sklearn.neighbors import KNeighborsClassifier\n",
    "from sklearn.linear_model import LinearRegression\n",
    "from sklearn.model_selection import train_test_split\n",
    "from sklearn.metrics import mean_squared_error\n",
    "from sklearn.preprocessing import StandardScaler, LabelEncoder\n",
    "\n",
    "train_data = pd.read_csv(r'train.csv')\n",
    "test_data = pd.read_csv(r'test.csv')"
   ]
  },
  {
   "cell_type": "code",
   "execution_count": null,
   "id": "90d47b31",
   "metadata": {},
   "outputs": [
    {
     "name": "stdout",
     "output_type": "stream",
     "text": [
      "Mean Squared Error (Age): 140.71\n",
      "Model score (R^2) for Age: 0.24\n",
      "Số giá trị còn thiếu trong Age: 0\n",
      "Số giá trị thiếu trong cột Embarked sau khi điền: 0\n"
     ]
    }
   ],
   "source": [
    "# 1. Đối với cột age, thay vì chỉ điền giá trị trung bình hoặc trung vị, xây dựng một mô hình hồi quy tuyến tính\n",
    "# (Linear Regression) để dự đoán giá trị thiếu dựa trên các đặc trưng khác như pclass, sex, sibsp, và parch.\n",
    "features = ['Age', 'Pclass', 'Sex', 'SibSp', 'Parch', 'Embarked']\n",
    "data = train_data[features].copy()\n",
    "\n",
    "data['Sex'] = data['Sex'].map({'male': 0, 'female': 1})\n",
    "\n",
    "known_age = data[data['Age'].notna()]\n",
    "unknown_age = data[data['Age'].isna()]\n",
    "\n",
    "X = known_age.drop('Age', axis = 1)\n",
    "y = known_age['Age']\n",
    "\n",
    "X_train, X_test, y_train, y_test = train_test_split(X, y, test_size=0.2, random_state=42)\n",
    "\n",
    "model = LinearRegression()\n",
    "model.fit(X_train, y_train)\n",
    "\n",
    "y_pred = model.predict(X_test)\n",
    "mse = mean_squared_error(y_test, y_pred)\n",
    "print(f'Mean Squared Error: {mse:.2f}')\n",
    "print(f'Model score (R^2): {model.score(X_test, y_test): .2f}')\n",
    "\n",
    "if not unknown_age.empty:\n",
    "    X_missing = unknown_age.drop('Age', axis = 1)\n",
    "    predicted_age = model.predict(X_missing)\n",
    "    train_data.loc[train_data['Age'].isna(), 'Age'] = predicted_age\n",
    "\n",
    "print(f\"Số giá trị còn thiếu trong Age: {train_data['Age'].isna().sum}\")"
   ]
  },
  {
   "cell_type": "code",
   "execution_count": 11,
   "id": "b9223b72",
   "metadata": {},
   "outputs": [
    {
     "name": "stdout",
     "output_type": "stream",
     "text": [
      "Số giá trị thiếu trong cột Embarked sau khi điền: 0\n"
     ]
    }
   ],
   "source": [
    "#2. Đối với cột embarked, sử dụng thuật toán K-Nearest Neighbors (KNN) để điền giá trị thiếu dựa trên các đặc trưng liên quan.\n",
    "\n",
    "# Đọc dữ liệu\n",
    "train_data = pd.read_csv('train.csv')\n",
    "\n",
    "# Chọn các đặc trưng liên quan\n",
    "features = ['Pclass', 'Sex', 'Age', 'SibSp', 'Parch', 'Fare', 'Embarked']\n",
    "data = train_data[features].copy()\n",
    "\n",
    "# Chuyển đổi biến phân loại thành số\n",
    "data['Sex'] = data['Sex'].map({'male': 0, 'female': 1})\n",
    "\n",
    "# Mã hóa Embarked (nếu cần)\n",
    "le = LabelEncoder()\n",
    "data['Embarked_encoded'] = le.fit_transform(data['Embarked'].astype(str))\n",
    "\n",
    "# Tách dữ liệu\n",
    "known_embarked = data[data['Embarked'].notna()]\n",
    "unknown_embarked = data[data['Embarked'].isna()]\n",
    "\n",
    "# Chuẩn bị dữ liệu huấn luyện\n",
    "X_train = known_embarked.drop(['Embarked', 'Embarked_encoded'], axis=1)\n",
    "y_train = known_embarked['Embarked_encoded']\n",
    "\n",
    "# Chuẩn hóa dữ liệu (quan trọng với KNN)\n",
    "scaler = StandardScaler()\n",
    "X_train_scaled = scaler.fit_transform(X_train)\n",
    "\n",
    "if not unknown_embarked.empty:\n",
    "    X_test = unknown_embarked.drop(['Embarked', 'Embarked_encoded'], axis=1)\n",
    "    X_test_scaled = scaler.transform(X_test)\n",
    "    \n",
    "    # Dự đoán\n",
    "    predicted_embarked = knn.predict(X_test_scaled)\n",
    "    \n",
    "    # Chuyển đổi ngược về giá trị gốc\n",
    "    predicted_embarked_labels = le.inverse_transform(predicted_embarked)\n",
    "    \n",
    "    # Điền giá trị dự đoán vào dữ liệu gốc\n",
    "    train_data.loc[train_data['Embarked'].isna(), 'Embarked'] = predicted_embarked_labels\n",
    "\n",
    "# Kiểm tra số lượng giá trị thiếu còn lại\n",
    "print(f\"Số giá trị thiếu trong cột Embarked sau khi điền: {train_data['Embarked'].isna().sum()}\")"
   ]
  },
  {
   "cell_type": "code",
   "execution_count": null,
   "id": "ddafb6a8",
   "metadata": {},
   "outputs": [
    {
     "name": "stdout",
     "output_type": "stream",
     "text": [
      "Deck\n",
      "NaN    687\n",
      "C       59\n",
      "B       47\n",
      "D       33\n",
      "E       32\n",
      "A       15\n",
      "F       13\n",
      "G        4\n",
      "T        1\n",
      "Name: count, dtype: int64\n"
     ]
    }
   ],
   "source": [
    "'''3. Xử lý cột cabin (thường có nhiều giá trị thiếu): trích xuất thông tin từ ký tự đầu tiên của cabin (ví dụ: 'C', 'B') để tạo cột mới deck,\n",
    "sau đó mã hóa cột này.'''\n",
    "train_data['Deck'] = train_data['Cabin'].str[0]\n",
    "print('Phân phối các Deck trước khi xử lý')\n",
    "print(train_data['Deck'].value_counts(dropna=False))"
   ]
  }
 ],
 "metadata": {
  "kernelspec": {
   "display_name": "base",
   "language": "python",
   "name": "python3"
  },
  "language_info": {
   "codemirror_mode": {
    "name": "ipython",
    "version": 3
   },
   "file_extension": ".py",
   "mimetype": "text/x-python",
   "name": "python",
   "nbconvert_exporter": "python",
   "pygments_lexer": "ipython3",
   "version": "3.12.7"
  }
 },
 "nbformat": 4,
 "nbformat_minor": 5
}
